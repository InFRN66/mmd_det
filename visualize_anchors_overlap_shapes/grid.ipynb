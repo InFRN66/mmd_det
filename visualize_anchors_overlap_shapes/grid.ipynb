{
 "cells": [
  {
   "cell_type": "code",
   "execution_count": 7,
   "metadata": {},
   "outputs": [
    {
     "name": "stdout",
     "output_type": "stream",
     "text": [
      "The autoreload extension is already loaded. To reload it, use:\n",
      "  %reload_ext autoreload\n"
     ]
    }
   ],
   "source": [
    "from utils import *\n",
    "%load_ext autoreload\n",
    "%autoreload 2"
   ]
  },
  {
   "cell_type": "code",
   "execution_count": 15,
   "metadata": {},
   "outputs": [
    {
     "name": "stdout",
     "output_type": "stream",
     "text": [
      "positives:  35\n",
      "index:  [6167 6173 6179 6275 6281 6287 6293 6389 6395 6401 6407 6509 6515 6521\n",
      " 8026 8027 8029 8031 8080 8082 8084 8086 8087 8088 8089 8090 8091 8092\n",
      " 8093 8094 8096 8146 8147 8149 8151]\n",
      "ious:  tensor([0.4450, 0.4864, 0.4123, 0.4242, 0.6031, 0.6659, 0.5543, 0.4242, 0.6031,\n",
      "        0.6659, 0.5543, 0.4450, 0.4864, 0.4123, 0.4873, 0.4366, 0.5135, 0.4027,\n",
      "        0.4335, 0.4667, 0.4027, 0.8042, 0.5561, 0.5423, 0.5423, 0.4027, 0.4027,\n",
      "        0.5532, 0.4823, 0.5423, 0.4027, 0.4873, 0.4366, 0.5135, 0.4027])\n"
     ]
    },
    {
     "data": {
      "text/plain": [
       "tensor([0., 0., 0.,  ..., 0., 0., 0.])"
      ]
     },
     "execution_count": 15,
     "metadata": {},
     "output_type": "execute_result"
    },
    {
     "data": {
      "image/png": "[encoded data removed]",
      "text/plain": [
       "<Figure size 720x720 with 1 Axes>"
      ]
     },
     "metadata": {
      "needs_background": "light"
     },
     "output_type": "display_data"
    }
   ],
   "source": [
    "_, ious, mask = overlap(img_size, [100,30,200,130], thresh=0.40, sigmoid=True)\n",
    "print(\"ious: \", ious.flatten())\n",
    "\n",
    "# resolution in each prior\n",
    "get_resolution(8254)\n",
    "bb_intersection_over_union(corner_priors[9]*img_size, corner_priors[8]*img_size)\n",
    "\n",
    "mask"
   ]
  },
  {
   "cell_type": "code",
   "execution_count": 20,
   "metadata": {},
   "outputs": [
    {
     "data": {
      "text/plain": [
       "tensor([0.0219, 0.2807, 0.0023, 0.0053, 1.0000, 1.0000, 0.9770, 0.0053, 1.0000,\n",
       "        1.0000, 0.9770, 0.0219, 0.2807, 0.0023, 0.2933, 0.0124, 0.7175, 0.0012,\n",
       "        0.0100, 0.0909, 0.0012, 1.0000, 0.9796, 0.9489, 0.9489, 0.0012, 0.0012,\n",
       "        0.9752, 0.2275, 0.9489, 0.0012, 0.2933, 0.0124, 0.7175, 0.0012])"
      ]
     },
     "execution_count": 20,
     "metadata": {},
     "output_type": "execute_result"
    }
   ],
   "source": [
    "mask[mask > 0]"
   ]
  },
  {
   "cell_type": "code",
   "execution_count": 15,
   "metadata": {},
   "outputs": [
    {
     "name": "stderr",
     "output_type": "stream",
     "text": [
      "Clipping input data to the valid range for imshow with RGB data ([0..1] for floats or [0..255] for integers).\n"
     ]
    },
    {
     "data": {
      "image/png": "[encoded data removed]",
      "text/plain": [
       "<Figure size 720x720 with 1 Axes>"
      ]
     },
     "metadata": {
      "needs_background": "light"
     },
     "output_type": "display_data"
    }
   ],
   "source": [
    "_ = bb_from_fourpoints(img_size, corner_priors[6281]*img_size)"
   ]
  },
  {
   "cell_type": "code",
   "execution_count": 6,
   "metadata": {},
   "outputs": [
    {
     "ename": "TypeError",
     "evalue": "list indices must be integers or slices, not list",
     "output_type": "error",
     "traceback": [
      "\u001b[0;31m---------------------------------------------------------------------------\u001b[0m",
      "\u001b[0;31mTypeError\u001b[0m                                 Traceback (most recent call last)",
      "\u001b[0;32m<ipython-input-6-6686ebf1a0d6>\u001b[0m in \u001b[0;36m<module>\u001b[0;34m\u001b[0m\n\u001b[1;32m      1\u001b[0m \u001b[0;32mfrom\u001b[0m \u001b[0mvision\u001b[0m\u001b[0;34m.\u001b[0m\u001b[0mutils\u001b[0m\u001b[0;34m.\u001b[0m\u001b[0mbox_utils\u001b[0m \u001b[0;32mimport\u001b[0m \u001b[0massign_priors_for_count\u001b[0m\u001b[0;34m\u001b[0m\u001b[0;34m\u001b[0m\u001b[0m\n\u001b[1;32m      2\u001b[0m \u001b[0;34m\u001b[0m\u001b[0m\n\u001b[0;32m----> 3\u001b[0;31m \u001b[0mreal_boxes\u001b[0m\u001b[0;34m,\u001b[0m \u001b[0mreal_labels\u001b[0m\u001b[0;34m,\u001b[0m \u001b[0mboxes\u001b[0m\u001b[0;34m,\u001b[0m \u001b[0mlabels\u001b[0m\u001b[0;34m=\u001b[0m \u001b[0massign_priors_for_count\u001b[0m\u001b[0;34m(\u001b[0m\u001b[0mtorch\u001b[0m\u001b[0;34m.\u001b[0m\u001b[0mTensor\u001b[0m\u001b[0;34m(\u001b[0m\u001b[0;34m[\u001b[0m\u001b[0;34m[\u001b[0m\u001b[0;36m100\u001b[0m\u001b[0;34m,\u001b[0m\u001b[0;36m30\u001b[0m\u001b[0;34m,\u001b[0m\u001b[0;36m200\u001b[0m\u001b[0;34m,\u001b[0m\u001b[0;36m130\u001b[0m\u001b[0;34m]\u001b[0m\u001b[0;34m]\u001b[0m\u001b[0;34m)\u001b[0m\u001b[0;34m,\u001b[0m \u001b[0;34m[\u001b[0m\u001b[0;36m10\u001b[0m\u001b[0;34m]\u001b[0m\u001b[0;34m,\u001b[0m \u001b[0mcorner_priors\u001b[0m\u001b[0;34m,\u001b[0m \u001b[0miou_threshold\u001b[0m\u001b[0;34m=\u001b[0m\u001b[0;36m0.5\u001b[0m\u001b[0;34m)\u001b[0m\u001b[0;34m\u001b[0m\u001b[0;34m\u001b[0m\u001b[0m\n\u001b[0m",
      "\u001b[0;32m~/programs/pyfile/paper_implementation/MIRU2019/vision/utils/box_utils.py\u001b[0m in \u001b[0;36massign_priors_for_count\u001b[0;34m(gt_boxes, gt_labels, corner_form_priors, iou_threshold)\u001b[0m\n\u001b[1;32m    310\u001b[0m     \u001b[0;32mfor\u001b[0m \u001b[0mt\u001b[0m \u001b[0;32min\u001b[0m \u001b[0mrange\u001b[0m\u001b[0;34m(\u001b[0m\u001b[0mlen\u001b[0m\u001b[0;34m(\u001b[0m\u001b[0mgt_labels\u001b[0m\u001b[0;34m)\u001b[0m\u001b[0;34m)\u001b[0m\u001b[0;34m:\u001b[0m\u001b[0;34m\u001b[0m\u001b[0;34m\u001b[0m\u001b[0m\n\u001b[1;32m    311\u001b[0m         \u001b[0mtarget_box\u001b[0m \u001b[0;34m=\u001b[0m \u001b[0mgt_boxes\u001b[0m\u001b[0;34m[\u001b[0m\u001b[0;34m[\u001b[0m\u001b[0mt\u001b[0m\u001b[0;34m]\u001b[0m\u001b[0;34m,\u001b[0m \u001b[0;34m:\u001b[0m\u001b[0;34m]\u001b[0m\u001b[0;34m\u001b[0m\u001b[0;34m\u001b[0m\u001b[0m\n\u001b[0;32m--> 312\u001b[0;31m         \u001b[0mtarget_label\u001b[0m \u001b[0;34m=\u001b[0m \u001b[0mgt_labels\u001b[0m\u001b[0;34m[\u001b[0m\u001b[0;34m[\u001b[0m\u001b[0mt\u001b[0m\u001b[0;34m]\u001b[0m\u001b[0;34m]\u001b[0m\u001b[0;34m\u001b[0m\u001b[0;34m\u001b[0m\u001b[0m\n\u001b[0m\u001b[1;32m    313\u001b[0m         \u001b[0;31m# size: num_priors * num_targets [8732, num_targets]\u001b[0m\u001b[0;34m\u001b[0m\u001b[0;34m\u001b[0m\u001b[0;34m\u001b[0m\u001b[0m\n\u001b[1;32m    314\u001b[0m         \u001b[0miou\u001b[0m \u001b[0;34m=\u001b[0m \u001b[0miou_of\u001b[0m\u001b[0;34m(\u001b[0m\u001b[0mtarget_box\u001b[0m\u001b[0;34m.\u001b[0m\u001b[0munsqueeze\u001b[0m\u001b[0;34m(\u001b[0m\u001b[0;36m0\u001b[0m\u001b[0;34m)\u001b[0m\u001b[0;34m,\u001b[0m \u001b[0mcorner_form_priors\u001b[0m\u001b[0;34m.\u001b[0m\u001b[0munsqueeze\u001b[0m\u001b[0;34m(\u001b[0m\u001b[0;36m1\u001b[0m\u001b[0;34m)\u001b[0m\u001b[0;34m)\u001b[0m \u001b[0;31m# [8732, num_targets]各gt,dafaultboxのIoU\u001b[0m\u001b[0;34m\u001b[0m\u001b[0;34m\u001b[0m\u001b[0m\n",
      "\u001b[0;31mTypeError\u001b[0m: list indices must be integers or slices, not list"
     ]
    }
   ],
   "source": [
    "from vision.utils.box_utils import assign_priors_for_count\n",
    "\n",
    "real_boxes, real_labels, boxes, labels= assign_priors_for_count(torch.Tensor([[100,30,200,130]]), torch.Tensor([10]), corner_priors, iou_threshold=0.5)\n"
   ]
  },
  {
   "cell_type": "code",
   "execution_count": null,
   "metadata": {},
   "outputs": [],
   "source": []
  },
  {
   "cell_type": "code",
   "execution_count": null,
   "metadata": {},
   "outputs": [],
   "source": []
  },
  {
   "cell_type": "code",
   "execution_count": 32,
   "metadata": {},
   "outputs": [],
   "source": [
    "import numpy as np\n",
    "import torch\n",
    "import cv2\n",
    "import matplotlib.pyplot as plt\n",
    "%matplotlib inline\n",
    "import os, sys\n",
    "sys.path.append(\"../\")\n",
    "\n",
    "from vision.ssd.ssd import MatchPrior\n",
    "from vision.utils.box_utils import (assign_priors, center_form_to_corner_form, \n",
    "                                    corner_form_to_center_form, iou_of)\n",
    "from vision.ssd.config.vgg_ssd_config import Config\n",
    "\n",
    "anchors = [1,1,1]\n",
    "rectangles = [[2],[2,3],[2,3],[2,3],[2],[2]]\n",
    "num_anchors = [4,6,6,6,4,4]\n",
    "vgg_config=[64, 64, 'M', 128, 128, 'M', 256, 256, 256, 'C', 512, 512, 512, 'M', 512, 512, 512]\n",
    "\n",
    "config = Config(anchors, rectangles, num_anchors, vgg_config)\n",
    "\n",
    "img_size = 760\n",
    "\n",
    "def line_wihte(image, max_, fm):\n",
    "    \"\"\"\n",
    "    :: depict whcite lines in image. visualize grid\n",
    "    \"\"\"\n",
    "    x = np.arange(0, max_, int(max_/fm))\n",
    "    for i in range(len(x)):\n",
    "        image = cv2.line(image, (x[i], 0),(x[i], max_),(100,100,100),2)\n",
    "        image = cv2.line(image, (0, x[i]),(max_, x[i]),(100,100,100),2)\n",
    "    return image\n",
    "\n",
    "\n",
    "def bb_from_fourpoints(img_size, prior, color=(255,0,0), image=None):\n",
    "    \"\"\"\n",
    "    view anrhor place in image , from only index of prior\n",
    "    \"\"\"\n",
    "    if type(prior) == np.ndarray:\n",
    "        prior = torch.from_numpy(prior)\n",
    "    prior = prior.view(-1)\n",
    "    if image is None:\n",
    "        image = np.zeros((img_size, img_size, 3))\n",
    "    image = cv2.rectangle(image, (prior[0], prior[1]),(prior[2], prior[3]), color, 3)\n",
    "    plt.imshow(image)\n",
    "    plt.show()\n",
    "    return image\n",
    "\n",
    "def bb_intersection_over_union(boxA, boxB):\n",
    "    \"\"\"\n",
    "    get iou of two boxes\n",
    "    boxA : [4]\n",
    "    boxB : [4]\n",
    "    \"\"\"\n",
    "    # determine the (x, y)-coordinates of the intersection rectangle\n",
    "    x1 = max(boxA[0], boxB[0])\n",
    "    y1 = max(boxA[1], boxB[1])\n",
    "    x2 = min(boxA[2], boxB[2])\n",
    "    y2 = min(boxA[3], boxB[3])\n",
    "\n",
    "    # compute the area of intersection rectangle\n",
    "    interArea = max(0, x2 - x1 + 1) * max(0, y2 - y1 + 1)\n",
    "    # compute the area of both the prediction and ground-truth\n",
    "    # rectangles\n",
    "    boxAArea = (boxA[2] - boxA[0] + 1) * (boxA[3] - boxA[1] + 1)\n",
    "    boxBArea = (boxB[2] - boxB[0] + 1) * (boxB[3] - boxB[1] + 1)\n",
    "    # compute the intersection over union by taking the intersection\n",
    "    # area and dividing it by the sum of prediction + ground-truth\n",
    "    # areas - the interesection area\n",
    "    iou = float(interArea) / float(boxAArea + boxBArea - interArea)\n",
    "    # return the intersection over union value\n",
    "    return iou\n",
    "\n",
    "def point_anchor_center(image, priors_coordinates_cornerform, radian, color=(255,0,0)):\n",
    "    \"\"\"\n",
    "    point center point in featuremap\n",
    "    \"\"\"\n",
    "    if priors_coordinates_cornerform.dim() != 2:\n",
    "        priors_coordinates_cornerform.unsqueeze_(0)\n",
    "        \n",
    "    cx = (priors_coordinates_cornerform[0,2] + priors_coordinates_cornerform[0,0]) / 2\n",
    "    cy = (priors_coordinates_cornerform[0,3] + priors_coordinates_cornerform[0,1]) / 2\n",
    "    image = cv2.circle(image, (int(cx), int(cy)), radian, color, -1)\n",
    "    return image\n",
    "\n",
    "match_prioir = MatchPrior(config.priors, config.center_variance, config.size_variance, iou_threshold=0.5)\n",
    "corner_priors = center_form_to_corner_form(config.priors.clone())\n",
    "center_priors = config.priors.clone()  \n"
   ]
  },
  {
   "cell_type": "code",
   "execution_count": 33,
   "metadata": {},
   "outputs": [],
   "source": [
    "# definition\n",
    "fm = [38, 19, 10, 5, 3, 1]\n",
    "anchor = [4, 6, 6, 6, 4, 4]\n",
    "cuts = [0, 5776, 7942, 8542, 8692, 8728]\n",
    "\n",
    "# tops = [38*4*10+52, \n",
    "#         38**2*4 + 19**2*6,  \n",
    "#         38**2*4 + 19**2*6 + 10*4*6+18, \n",
    "#         38**2*4 + 19**2*6 + 10**2*6 + 5*2*6+12, \n",
    "#         38**2*4 + 19**2*6 + 10**2*6 + 5**2*6 + 3*1*4+4, \n",
    "#         ]\n",
    "\n",
    "tops = [int((38**2*4)/2)+4*int(38/2), \n",
    "        38**2*4 + int((19**2*6)/2) - 3,  \n",
    "        38**2*4 + 19**2*6 + 6*10*4+6*4, \n",
    "        38**2*4 + 19**2*6 + 10**2*6 + int((5**2*6)/2)-3, \n",
    "        38**2*4 + 19**2*6 + 10**2*6 + 5**2*6 + int((3**2*4)/2)-2, \n",
    "        ]\n"
   ]
  },
  {
   "cell_type": "code",
   "execution_count": 46,
   "metadata": {},
   "outputs": [
    {
     "data": {
      "image/png": "[encoded data removed]",
      "text/plain": [
       "<Figure size 432x288 with 1 Axes>"
      ]
     },
     "metadata": {
      "needs_background": "light"
     },
     "output_type": "display_data"
    }
   ],
   "source": [
    "\n",
    "def anchors_various_in_one_grid(img_size, priors, f, top, anc, s):\n",
    "    image = np.zeros((img_size, img_size, 3))\n",
    "    image = line_wihte(image, max_=img_size, fm=f)\n",
    "    point_anchor_center(image, priors[top], int(img_size/f/4), color=(0, 255, 0))\n",
    "    for I in range(anc):       \n",
    "        for i in [top+I]:\n",
    "            image = cv2.rectangle(image, (priors[i,0], priors[i,1]), (priors[i,2], priors[i,3]), (0, 255, 0), s)\n",
    "    plt.imshow(image/255)\n",
    "    plt.imsave(f\"next_grid/{f}_sample.png\", image/255)\n",
    "\n",
    "    \n",
    "def anchors_with_next_grid(img_size, priors, f, top, anc, s):\n",
    "    for I in range(anc):\n",
    "        image = np.zeros((img_size,img_size,3))\n",
    "        image = line_wihte(image, max_=img_size, fm=f)\n",
    "        image = point_anchor_center(image, priors[top], int(img_size/f/4), color=(0, 255, 0))\n",
    "        image = cv2.rectangle(image, (priors[top+I,0], priors[top+I,1]), \n",
    "                                  (priors[top+I,2], priors[top+I,3]), (0, 255, 0), s)\n",
    "        image = point_anchor_center(image, priors[top+anc], int(img_size/f/4), color=(255, 0, 0))\n",
    "        image = cv2.rectangle(image, (priors[top+anc+I,0]-s, priors[top+anc+I,1]-s), \n",
    "                                  (priors[top+anc+I,2]+s, priors[top+anc+I,3]+s), (255, 0, 0), s)\n",
    "        iou = bb_intersection_over_union(priors[top+I], priors[top+anc+I])\n",
    "        font = cv2.FONT_HERSHEY_SIMPLEX\n",
    "        cv2.putText(image, f\"iou = {round(iou, 4)}\", (10,50), font, 1, (255,255,255), 2, cv2.LINE_AA)\n",
    "        plt.imshow(image/255)\n",
    "        plt.imsave(f\"next_grid/{f}_compare{I}.png\", image/255)\n",
    "\n",
    "        \n",
    "def for_iou(prior):\n",
    "    \"\"\"\n",
    "    [8732, 4] -> [8732, 1, 4]\n",
    "    \"\"\"\n",
    "    if prior.dim() != 3:\n",
    "        prior = prior.unsqueeze(0).permute(1, 0, 2)\n",
    "    return prior    \n",
    "\n",
    "def res_to_ind(res):\n",
    "    print(res)\n",
    "    return {38:0, 19:1, 10:2, 5:3, 3:4, 1:5}[res]\n",
    "    \n",
    "def anchors_with_next_scale(img_size, priors, fm, top):\n",
    "    if type(priors) == np.ndarray:\n",
    "        priors = torch.from_numpy(priors).clone()\n",
    "    main_prior = priors[[top], :]\n",
    "    scales_priors = devide_priors_into_each_scales(priors)\n",
    "#     out = [ iou_of(for_iou(main_prior), for_iou(p)) for p in scales_priors ]\n",
    "    out = [ iou_of(main_prior, p) for p in scales_priors ]\n",
    "    top_k = [ torch.topk(x.view(-1), 3)[1] for x in out ]\n",
    "    sub = [ torch.topk(x.view(-1), J)[0] for x, J in zip(out, [5,5,5,5,5,3]) ]\n",
    "    top_k = [ x+start for x, start in zip(top_k, [0, 5776, 7942, 8542, 8692, 8728]) ]\n",
    "    image = np.zeros((img_size, img_size, 3))\n",
    "    image = line_wihte(image, img_size, fm)\n",
    "    image = bb_from_fourpoints(img_size, priors[top], color=(0,255,0), image=image)\n",
    "    for j in top_k[res_to_ind(fm)]:\n",
    "        image = bb_from_fourpoints(img_size, priors[j], image=image)\n",
    "        \n",
    "#             image = point_anchor_center(image, priors[top], int(img_size/f/4), color=(0, 255, 0))\n",
    "    return image, sub, top_k\n",
    "\n",
    "def get_nearest_otherscales(priors, main_prior):\n",
    "    \"\"\"\n",
    "    input:\n",
    "        priors: all priors\n",
    "        main_prior: one target prior\n",
    "    \"\"\"\n",
    "    if type(priors) == torch.Tensor:\n",
    "        priors = priors.numpy().copy()\n",
    "    if type(main_prior) == torch.Tensor:\n",
    "        main_prior = main_prior.numpy().copy()\n",
    "    main_cx, main_cy = main_prior[2] - main_prior[0], main_prior[3] - main_prior[1]\n",
    "    cx = (priors[:, 2]+priors[:, 0])/2\n",
    "    cy = (priors[:, 3]+priors[:, 1])/2\n",
    "    cx = cx.astype(np.int)\n",
    "    cy = cy.astype(np.int)\n",
    "    dc = np.stack((main_cx-cx, main_cy-cy)).transpose(1,0).reshape(-1, 2)\n",
    "    print(dc.shape)\n",
    "    distance = np.linalg.norm(dc, 2, axis=1)\n",
    "    print(distance.shape)\n",
    "    k_nearest = np.argmin(distance) \n",
    "    return k_nearest\n",
    "\n",
    "\n",
    "def get_one_scale_priors(priors, fm):\n",
    "    \"\"\"\n",
    "    input: [8732, 4]\n",
    "    output: list of each scale prior\n",
    "    \"\"\"\n",
    "    if fm == 38:\n",
    "        out = priors[:5776, :]\n",
    "    elif fm == 19:\n",
    "        out = priors[5776:7942, :]\n",
    "    elif fm == 10:\n",
    "        out = priors[7942:8542, :]\n",
    "    elif fm == 5:\n",
    "        out = priors[8542:8692, :]\n",
    "    elif fm == 3:\n",
    "        out = priors[8692:8728, :]\n",
    "    elif fm == 1:\n",
    "        out = priors[8728:, :]\n",
    "    return out\n",
    "\n",
    "\n",
    "# [0, 5776, 7942, 8542, 8692, 8728]\n",
    "def devide_priors_into_each_scales(priors):\n",
    "    out = list()\n",
    "    for i in [38, 19, 10, 5, 3, 1]:\n",
    "        out.append(get_one_scale_priors(priors, i))\n",
    "    return out\n",
    "\n",
    "# --- main\n",
    "s = 3 # 四角のかぶりずらし\n",
    "for f, anc, top, cut in zip(fm, anchor, tops, cuts):\n",
    "    \"\"\"\n",
    "    f: resoluton in feature map\n",
    "    anc: num of anchors in onegrid\n",
    "    top: to show anchors, in first plece index\n",
    "    \"\"\" \n",
    "    anchors_various_in_one_grid(img_size, priors, f, top, anc, s)\n",
    "    anchors_with_next_grid(img_size, priors, f, top, anc, s)\n",
    "    "
   ]
  },
  {
   "cell_type": "code",
   "execution_count": 36,
   "metadata": {},
   "outputs": [
    {
     "name": "stderr",
     "output_type": "stream",
     "text": [
      "Clipping input data to the valid range for imshow with RGB data ([0..1] for floats or [0..255] for integers).\n"
     ]
    },
    {
     "data": {
      "image/png": "[encoded data removed]",
      "text/plain": [
       "<Figure size 432x288 with 1 Axes>"
      ]
     },
     "metadata": {
      "needs_background": "light"
     },
     "output_type": "display_data"
    },
    {
     "name": "stderr",
     "output_type": "stream",
     "text": [
      "Clipping input data to the valid range for imshow with RGB data ([0..1] for floats or [0..255] for integers).\n"
     ]
    },
    {
     "name": "stdout",
     "output_type": "stream",
     "text": [
      "38\n"
     ]
    },
    {
     "data": {
      "image/png": "[encoded data removed]",
      "text/plain": [
       "<Figure size 432x288 with 1 Axes>"
      ]
     },
     "metadata": {
      "needs_background": "light"
     },
     "output_type": "display_data"
    },
    {
     "name": "stderr",
     "output_type": "stream",
     "text": [
      "Clipping input data to the valid range for imshow with RGB data ([0..1] for floats or [0..255] for integers).\n"
     ]
    },
    {
     "data": {
      "image/png": "[encoded data removed]",
      "text/plain": [
       "<Figure size 432x288 with 1 Axes>"
      ]
     },
     "metadata": {
      "needs_background": "light"
     },
     "output_type": "display_data"
    },
    {
     "name": "stderr",
     "output_type": "stream",
     "text": [
      "Clipping input data to the valid range for imshow with RGB data ([0..1] for floats or [0..255] for integers).\n"
     ]
    },
    {
     "data": {
      "image/png": "[encoded data removed]",
      "text/plain": [
       "<Figure size 432x288 with 1 Axes>"
      ]
     },
     "metadata": {
      "needs_background": "light"
     },
     "output_type": "display_data"
    }
   ],
   "source": [
    "out = anchors_with_next_scale(img_size, priors, fm=38, top=6745)"
   ]
  },
  {
   "cell_type": "code",
   "execution_count": 52,
   "metadata": {},
   "outputs": [
    {
     "data": {
      "text/plain": [
       "([tensor([0.4325, 0.4325, 0.4325, 0.4325, 0.4325]),\n",
       "  tensor([1.0000, 0.6899, 0.6827, 0.6827, 0.6055]),\n",
       "  tensor([0.2922, 0.2922, 0.2922, 0.2922, 0.2922]),\n",
       "  tensor([0.1372, 0.1372, 0.1372, 0.1372, 0.1372]),\n",
       "  tensor([0.0797, 0.0797, 0.0797, 0.0797, 0.0797]),\n",
       "  tensor([0.0643, 0.0643, 0.0517])],\n",
       " [tensor([2657, 2661, 2357]),\n",
       "  tensor([6745, 6747, 6859]),\n",
       "  tensor([8206, 8212, 8211]),\n",
       "  tensor([8619, 8589, 8649]),\n",
       "  tensor([8714, 8706, 8710]),\n",
       "  tensor([8730, 8731, 8728])])"
      ]
     },
     "execution_count": 52,
     "metadata": {},
     "output_type": "execute_result"
    }
   ],
   "source": [
    "out[1], out[2]"
   ]
  },
  {
   "cell_type": "code",
   "execution_count": 65,
   "metadata": {},
   "outputs": [
    {
     "data": {
      "text/plain": [
       "0.4349827392383923"
      ]
     },
     "execution_count": 65,
     "metadata": {},
     "output_type": "execute_result"
    }
   ],
   "source": [
    "bb_intersection_over_union(corner_priors[6745]*img_size, corner_priors[2357]*img_size)"
   ]
  },
  {
   "cell_type": "code",
   "execution_count": 78,
   "metadata": {},
   "outputs": [
    {
     "name": "stderr",
     "output_type": "stream",
     "text": [
      "Clipping input data to the valid range for imshow with RGB data ([0..1] for floats or [0..255] for integers).\n"
     ]
    },
    {
     "data": {
      "image/png": "[encoded data removed]",
      "text/plain": [
       "<Figure size 432x288 with 1 Axes>"
      ]
     },
     "metadata": {
      "needs_background": "light"
     },
     "output_type": "display_data"
    },
    {
     "name": "stderr",
     "output_type": "stream",
     "text": [
      "Clipping input data to the valid range for imshow with RGB data ([0..1] for floats or [0..255] for integers).\n"
     ]
    },
    {
     "data": {
      "image/png": "[encoded data removed]",
      "text/plain": [
       "<Figure size 432x288 with 1 Axes>"
      ]
     },
     "metadata": {
      "needs_background": "light"
     },
     "output_type": "display_data"
    }
   ],
   "source": [
    "_ = bb_from_fourpoints(img_size, corner_priors[6745]*img_size)\n",
    "_ = bb_from_fourpoints(img_size, corner_priors[2661]*img_size)"
   ]
  }
 ],
 "metadata": {
  "kernelspec": {
   "display_name": "Python 3",
   "language": "python",
   "name": "python3"
  },
  "language_info": {
   "codemirror_mode": {
    "name": "ipython",
    "version": 3
   },
   "file_extension": ".py",
   "mimetype": "text/x-python",
   "name": "python",
   "nbconvert_exporter": "python",
   "pygments_lexer": "ipython3",
   "version": "3.6.7"
  }
 },
 "nbformat": 4,
 "nbformat_minor": 2
}
